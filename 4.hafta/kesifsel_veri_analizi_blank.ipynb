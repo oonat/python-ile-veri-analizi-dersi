{
 "cells": [
  {
   "cell_type": "markdown",
   "id": "d562f73e",
   "metadata": {},
   "source": [
    "# Keşifsel Veri Analizi"
   ]
  },
  {
   "cell_type": "code",
   "execution_count": null,
   "id": "15cfc3e8",
   "metadata": {},
   "outputs": [],
   "source": [
    "%matplotlib inline\n",
    "import numpy as np\n",
    "import pandas as pd\n",
    "import matplotlib.pyplot as plt\n",
    "import plotly.express as px"
   ]
  },
  {
   "cell_type": "markdown",
   "id": "b48b40ee",
   "metadata": {},
   "source": [
    "## 1. Veriseti İşleme"
   ]
  },
  {
   "cell_type": "markdown",
   "id": "c945d028",
   "metadata": {},
   "source": [
    "### Verisetini Pandas'a Aktarma"
   ]
  },
  {
   "cell_type": "code",
   "execution_count": null,
   "id": "2a7a4cab",
   "metadata": {},
   "outputs": [],
   "source": [
    "root_path = \"./datasets\"\n",
    "dataset_names = ['midterm-2018']"
   ]
  },
  {
   "cell_type": "code",
   "execution_count": null,
   "id": "a5d1832e",
   "metadata": {},
   "outputs": [],
   "source": [
    "def load_dataset(user_object_path, user_label_path):\n",
    "    df_user_object = pd.read_json(user_object_path)\n",
    "\n",
    "    df_label = pd.read_csv(user_label_path, sep=\"\\t\", names=[\"user_id\", \"label\"])\n",
    "    df_joined = pd.merge(df_user_object, df_label, on='user_id', how='inner')\n",
    "\n",
    "    df_joined.loc[df_joined.label == \"bot\", 'label'] = 1\n",
    "    df_joined.loc[df_joined.label == \"human\", 'label'] = 0\n",
    "    df_joined.label = df_joined.label.astype(bool)\n",
    "    \n",
    "    return df_joined"
   ]
  },
  {
   "cell_type": "code",
   "execution_count": null,
   "id": "70271adc",
   "metadata": {},
   "outputs": [],
   "source": [
    "def merge_datasets(root_path, dataset_names):\n",
    "    df_list = []\n",
    "    for data_name in dataset_names:\n",
    "        user_object_path = f\"{root_path}/{data_name}_user_object.json\"\n",
    "        user_label_path = f\"{root_path}/{data_name}_user_label.tsv\"\n",
    "        df = load_dataset(user_object_path, user_label_path)\n",
    "        print(data_name)\n",
    "        print(df.shape)\n",
    "        df_list.append(df)\n",
    "        \n",
    "    df_all = pd.concat(df_list, ignore_index=True)\n",
    "    return df_all"
   ]
  },
  {
   "cell_type": "code",
   "execution_count": null,
   "id": "f6a65954",
   "metadata": {
    "scrolled": true
   },
   "outputs": [],
   "source": [
    "df = merge_datasets(root_path, dataset_names)\n",
    "pd.set_option('display.max_columns', None)"
   ]
  },
  {
   "cell_type": "markdown",
   "id": "1658e43b",
   "metadata": {},
   "source": [
    "### Verisetinin Özellikleri"
   ]
  },
  {
   "cell_type": "code",
   "execution_count": null,
   "id": "bb4b840b",
   "metadata": {},
   "outputs": [],
   "source": [
    "# shape, info"
   ]
  },
  {
   "cell_type": "markdown",
   "id": "d8fcc90e",
   "metadata": {},
   "source": [
    "### Özellik Seçme"
   ]
  },
  {
   "cell_type": "code",
   "execution_count": null,
   "id": "a3834ba3",
   "metadata": {},
   "outputs": [],
   "source": [
    "feature_list = [\n",
    "]"
   ]
  },
  {
   "cell_type": "markdown",
   "id": "af8f0274",
   "metadata": {},
   "source": [
    "### Veriseti Temizleme"
   ]
  },
  {
   "cell_type": "code",
   "execution_count": null,
   "id": "0ba4acf3",
   "metadata": {},
   "outputs": [],
   "source": [
    "#print(df.duplicated(subset=['user_id']).any())\n",
    "#df = drop_duplicates(subset=['col'], keep=False)"
   ]
  },
  {
   "cell_type": "code",
   "execution_count": null,
   "id": "389edb83",
   "metadata": {},
   "outputs": [],
   "source": [
    "# df.isnull().any(axis=1)\n",
    "# df = df.dropna(axis=1, how='any')"
   ]
  },
  {
   "cell_type": "markdown",
   "id": "51448154",
   "metadata": {},
   "source": [
    "## 2. Veriseti Manipülasyonu"
   ]
  },
  {
   "cell_type": "code",
   "execution_count": null,
   "id": "43e6d63a",
   "metadata": {},
   "outputs": [],
   "source": [
    "# pd.to_numeric, pd.to_datetime"
   ]
  },
  {
   "cell_type": "markdown",
   "id": "2114e11a",
   "metadata": {},
   "source": [
    "## 3. Verisetini Keşfetme"
   ]
  },
  {
   "cell_type": "code",
   "execution_count": null,
   "id": "87349c80",
   "metadata": {},
   "outputs": [],
   "source": [
    "#describe"
   ]
  },
  {
   "cell_type": "code",
   "execution_count": null,
   "id": "1d79cbae",
   "metadata": {},
   "outputs": [],
   "source": [
    "#bot-human bar plot, verified, geo_enabled, etc."
   ]
  },
  {
   "cell_type": "code",
   "execution_count": null,
   "id": "f93da4d3",
   "metadata": {},
   "outputs": [],
   "source": [
    "#nlargest, nsmallest"
   ]
  },
  {
   "cell_type": "code",
   "execution_count": null,
   "id": "b0c8cf38",
   "metadata": {},
   "outputs": [],
   "source": [
    "#groupby lang, "
   ]
  },
  {
   "cell_type": "code",
   "execution_count": null,
   "id": "66c5e0b9",
   "metadata": {},
   "outputs": [],
   "source": [
    "#boxplot followers"
   ]
  },
  {
   "cell_type": "code",
   "execution_count": null,
   "id": "f63f8ed8",
   "metadata": {},
   "outputs": [],
   "source": [
    "#df.groupby('lang', as_index=False).count().nlargest(10, 'user_id')\n",
    "#px.pie(df_g, values=df_g.user_id, names=df_g.lang)"
   ]
  },
  {
   "cell_type": "markdown",
   "id": "d275215c",
   "metadata": {},
   "source": [
    "<img src=\"imgs/corr_cause.png\" alt=\"drawing\" width=\"500\"/>"
   ]
  },
  {
   "cell_type": "code",
   "execution_count": null,
   "id": "36f9c650",
   "metadata": {},
   "outputs": [],
   "source": [
    "#imshow corr\n",
    "#df_numerical = df.select_dtypes(include=[np.number, bool])\n",
    "#fig = px.imshow(df_numerical.corr(), text_auto=True)"
   ]
  },
  {
   "cell_type": "code",
   "execution_count": null,
   "id": "0f5e3ade",
   "metadata": {},
   "outputs": [],
   "source": [
    "#quantile filtering and scatter_3d\n",
    "#df.followers_count < df.followers_count.quantile(.90)"
   ]
  },
  {
   "cell_type": "markdown",
   "id": "346c93df",
   "metadata": {},
   "source": [
    "## 4. Ek Özellikler Ekleme"
   ]
  },
  {
   "cell_type": "code",
   "execution_count": null,
   "id": "ca20e78e",
   "metadata": {},
   "outputs": [],
   "source": [
    "#df['user_age'] = (df['probe_timestamp'] - df['user_created_at']).dt.days"
   ]
  },
  {
   "cell_type": "code",
   "execution_count": null,
   "id": "b557eace",
   "metadata": {},
   "outputs": [],
   "source": [
    "#df.apply(lambda x: len(df.screen_name), axis=1)"
   ]
  },
  {
   "cell_type": "code",
   "execution_count": null,
   "id": "d18a0441",
   "metadata": {},
   "outputs": [],
   "source": [
    "#user age histo, username histo"
   ]
  },
  {
   "cell_type": "code",
   "execution_count": null,
   "id": "35e88a19",
   "metadata": {},
   "outputs": [],
   "source": [
    "#bot count vs years"
   ]
  },
  {
   "cell_type": "code",
   "execution_count": null,
   "id": "1d2ff9c5",
   "metadata": {},
   "outputs": [],
   "source": [
    "#bot classification with user age\n",
    "\"\"\"\n",
    "df['user_created_year'] = df['user_created_at'].dt.year\n",
    "df_group_year = df.groupby('user_created_year').count()\n",
    "px.line(df_group_year, x=df_group_year.index, y='user_id')\n",
    "\"\"\""
   ]
  },
  {
   "cell_type": "code",
   "execution_count": null,
   "id": "a41f5e55",
   "metadata": {},
   "outputs": [],
   "source": []
  }
 ],
 "metadata": {
  "kernelspec": {
   "display_name": "Python 3 (ipykernel)",
   "language": "python",
   "name": "python3"
  },
  "language_info": {
   "codemirror_mode": {
    "name": "ipython",
    "version": 3
   },
   "file_extension": ".py",
   "mimetype": "text/x-python",
   "name": "python",
   "nbconvert_exporter": "python",
   "pygments_lexer": "ipython3",
   "version": "3.10.12"
  }
 },
 "nbformat": 4,
 "nbformat_minor": 5
}
