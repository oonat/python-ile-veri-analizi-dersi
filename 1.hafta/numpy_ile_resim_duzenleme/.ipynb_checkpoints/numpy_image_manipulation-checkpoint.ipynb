{
 "cells": [
  {
   "cell_type": "code",
   "execution_count": null,
   "metadata": {
    "id": "9hpWtmneELvs"
   },
   "outputs": [],
   "source": [
    "# Import the libraries\n",
    "import numpy as np\n",
    "import matplotlib.pyplot as plt"
   ]
  },
  {
   "cell_type": "markdown",
   "metadata": {},
   "source": [
    "# Image Manipulation Using NumPy"
   ]
  },
  {
   "cell_type": "markdown",
   "metadata": {
    "id": "MD7DlpMREikA"
   },
   "source": [
    "<img src=\"imgs/rgb_representation.png\" alt=\"drawing\" width=\"500\"/>"
   ]
  },
  {
   "cell_type": "code",
   "execution_count": null,
   "metadata": {
    "id": "n4BTy3pkLAAI"
   },
   "outputs": [],
   "source": [
    "# Read the target image\n",
    "img = plt.imread('imgs/hacettepe.jpg')"
   ]
  },
  {
   "cell_type": "code",
   "execution_count": null,
   "metadata": {
    "colab": {
     "base_uri": "https://localhost:8080/",
     "height": 413
    },
    "id": "sGnN6BQCUd5_",
    "outputId": "75a7e394-a67f-47c0-e53f-88d8c0939760"
   },
   "outputs": [],
   "source": [
    "# Display the original image\n",
    "plt.imshow(img)"
   ]
  },
  {
   "cell_type": "code",
   "execution_count": null,
   "metadata": {
    "colab": {
     "base_uri": "https://localhost:8080/"
    },
    "id": "x8OKc-PLCMzs",
    "outputId": "c483ac23-871a-4828-a6e2-4d4ac2e4d126"
   },
   "outputs": [],
   "source": [
    "# Image type\n",
    "print(type(img))"
   ]
  },
  {
   "cell_type": "code",
   "execution_count": null,
   "metadata": {},
   "outputs": [],
   "source": [
    "# Image shape\n",
    "print(img.shape)"
   ]
  },
  {
   "cell_type": "code",
   "execution_count": null,
   "metadata": {},
   "outputs": [],
   "source": [
    "# Data\n",
    "print(img)"
   ]
  },
  {
   "cell_type": "markdown",
   "metadata": {
    "id": "iLR2kpIYBkjf"
   },
   "source": [
    "# Flip the Image"
   ]
  },
  {
   "cell_type": "code",
   "execution_count": null,
   "metadata": {
    "id": "rZztsGflA7sV"
   },
   "outputs": [],
   "source": [
    "# Copy the original image\n",
    "flipped_img = img.copy()"
   ]
  },
  {
   "cell_type": "code",
   "execution_count": null,
   "metadata": {
    "colab": {
     "base_uri": "https://localhost:8080/",
     "height": 413
    },
    "id": "CBJwl0c7BYCA",
    "outputId": "83e9e6c4-2374-4d03-9b14-23e0fe50b8c6"
   },
   "outputs": [],
   "source": [
    "vertical_flipped_img = flipped_img[::-1, ]\n",
    "plt.imshow(vertical_flipped_img)"
   ]
  },
  {
   "cell_type": "code",
   "execution_count": null,
   "metadata": {
    "colab": {
     "base_uri": "https://localhost:8080/",
     "height": 564
    },
    "id": "Tw2bW51iBZ6i",
    "outputId": "2bad7d06-429e-4090-9720-145381c4b153"
   },
   "outputs": [],
   "source": [
    "horizontal_flipped_img = flipped_img[:, ::-1]\n",
    "plt.imshow(horizontal_flipped_img)"
   ]
  },
  {
   "cell_type": "markdown",
   "metadata": {
    "id": "nROf_7ziBoNV"
   },
   "source": [
    "# Crop the Image"
   ]
  },
  {
   "cell_type": "code",
   "execution_count": null,
   "metadata": {
    "colab": {
     "base_uri": "https://localhost:8080/",
     "height": 330
    },
    "id": "ppfpaEFcBqKD",
    "outputId": "8314b3b3-93db-4759-d27e-beb8c49bfa82"
   },
   "outputs": [],
   "source": [
    "height_margin, width_margin = 300, 400\n",
    "img_height, img_width = img.shape[:-1]\n",
    "\n",
    "cropped_img = \\\n",
    "  img[height_margin:(img_height-height_margin), width_margin:(img_width-width_margin)]\n",
    "\n",
    "plt.imshow(cropped_img)"
   ]
  },
  {
   "cell_type": "markdown",
   "metadata": {
    "id": "rKCnOBMHFDvi"
   },
   "source": [
    "# Single Color"
   ]
  },
  {
   "cell_type": "code",
   "execution_count": null,
   "metadata": {
    "colab": {
     "base_uri": "https://localhost:8080/",
     "height": 413
    },
    "id": "slj7cCJ7FJyK",
    "outputId": "450cfa7a-a919-4b47-8810-891378b39bd1"
   },
   "outputs": [],
   "source": [
    "img_red = img.copy()\n",
    "img_red[:, :, (1, 2)] = 0\n",
    "plt.imshow(img_red)"
   ]
  },
  {
   "cell_type": "code",
   "execution_count": null,
   "metadata": {
    "colab": {
     "base_uri": "https://localhost:8080/",
     "height": 413
    },
    "id": "gbN0P2LZFU45",
    "outputId": "df1e013d-d44a-4f4c-95d8-72ade5224ad0"
   },
   "outputs": [],
   "source": [
    "img_green = img.copy()\n",
    "img_green[:, :, (0, 2)] = 0\n",
    "plt.imshow(img_green)"
   ]
  },
  {
   "cell_type": "markdown",
   "metadata": {},
   "source": [
    "# Image Stacking"
   ]
  },
  {
   "cell_type": "code",
   "execution_count": null,
   "metadata": {},
   "outputs": [],
   "source": [
    "h_stacked = np.hstack((img_red, img_green))\n",
    "plt.imshow(h_stacked)"
   ]
  },
  {
   "cell_type": "code",
   "execution_count": null,
   "metadata": {},
   "outputs": [],
   "source": [
    "v_stacked = np.vstack((img_red, img_green))\n",
    "plt.imshow(v_stacked)"
   ]
  },
  {
   "cell_type": "code",
   "execution_count": null,
   "metadata": {},
   "outputs": [],
   "source": [
    "hmargin, vmargin = 200, 100\n",
    "img_college = img_red.copy()\n",
    "img_college[vmargin:-vmargin, hmargin:-hmargin, :] = img_green[vmargin:-vmargin, hmargin:-hmargin, :]\n",
    "plt.imshow(img_college)"
   ]
  },
  {
   "cell_type": "markdown",
   "metadata": {
    "id": "V51QEMWW7mU1"
   },
   "source": [
    "# Change Shirt Color"
   ]
  },
  {
   "cell_type": "code",
   "execution_count": null,
   "metadata": {
    "colab": {
     "base_uri": "https://localhost:8080/",
     "height": 452
    },
    "id": "H_NA9Ney9_eQ",
    "outputId": "dccc04b4-199e-4184-8de3-478b22b4f267"
   },
   "outputs": [],
   "source": [
    "tmp = plt.imread('imgs/single_color_tshirt.jpg')\n",
    "# make the image writable\n",
    "single_color = tmp.copy()\n",
    "plt.imshow(single_color)"
   ]
  },
  {
   "cell_type": "code",
   "execution_count": null,
   "metadata": {
    "colab": {
     "base_uri": "https://localhost:8080/"
    },
    "id": "kJglG1GF-W43",
    "outputId": "0c0cd798-a0eb-4d02-f08c-5f720c680b3b"
   },
   "outputs": [],
   "source": [
    "channel_sum = np.sum(single_color, axis=-1)\n",
    "print(channel_sum.shape)"
   ]
  },
  {
   "cell_type": "code",
   "execution_count": null,
   "metadata": {
    "colab": {
     "base_uri": "https://localhost:8080/",
     "height": 452
    },
    "id": "f0QKxNL7-NG4",
    "outputId": "9c2697d1-0eff-4048-8964-77956533f900"
   },
   "outputs": [],
   "source": [
    "row_ids, col_ids = np.where(channel_sum > 580) # For 0-255 range, it is sufficient\n",
    "new_color = [0, 0, 0]\n",
    "\n",
    "single_color[row_ids, col_ids, :] = new_color\n",
    "plt.imshow(single_color)"
   ]
  }
 ],
 "metadata": {
  "colab": {
   "collapsed_sections": [
    "iLR2kpIYBkjf",
    "nROf_7ziBoNV"
   ],
   "provenance": []
  },
  "kernelspec": {
   "display_name": "Python 3 (ipykernel)",
   "language": "python",
   "name": "python3"
  },
  "language_info": {
   "codemirror_mode": {
    "name": "ipython",
    "version": 3
   },
   "file_extension": ".py",
   "mimetype": "text/x-python",
   "name": "python",
   "nbconvert_exporter": "python",
   "pygments_lexer": "ipython3",
   "version": "3.10.12"
  }
 },
 "nbformat": 4,
 "nbformat_minor": 1
}
