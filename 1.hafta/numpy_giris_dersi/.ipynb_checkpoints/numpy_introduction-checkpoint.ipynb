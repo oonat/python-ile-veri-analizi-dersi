{
 "cells": [
  {
   "cell_type": "markdown",
   "metadata": {},
   "source": [
    "<img src=\"imgs/data_science_meme.jpg\" alt=\"drawing\" width=\"400\"/>"
   ]
  },
  {
   "cell_type": "markdown",
   "metadata": {
    "id": "3aH9A8o_4H6b"
   },
   "source": [
    "# NumPy'a Giriş"
   ]
  },
  {
   "cell_type": "code",
   "execution_count": 3,
   "metadata": {
    "id": "gCa7CpL4Icfu"
   },
   "outputs": [],
   "source": [
    "import numpy as np"
   ]
  },
  {
   "cell_type": "markdown",
   "metadata": {},
   "source": [
    "## Hız Karşılaştırması"
   ]
  },
  {
   "cell_type": "code",
   "execution_count": 12,
   "metadata": {},
   "outputs": [
    {
     "name": "stdout",
     "output_type": "stream",
     "text": [
      "List scalar multiplication takes 0.14383172988891602 secs\n",
      "Numpy scalar multiplication takes 0.0026063919067382812 secs\n"
     ]
    }
   ],
   "source": [
    "import time\n",
    "\n",
    "size = 1000000\n",
    "\n",
    "list1 = range(size)\n",
    "list2 = range(size)\n",
    "\n",
    "array1 = np.arange(size)\n",
    "array2 = np.arange(size)\n",
    "\n",
    "list_experiment_begin = time.time()\n",
    "list_scalar_mult = [a*b for a,b in zip(list1, list2)]\n",
    "print(f\"List scalar multiplication takes {time.time() - list_experiment_begin} secs\")\n",
    "\n",
    "numpy_experiment_begin = time.time()\n",
    "numpy_scalar_mult = array1*array2\n",
    "print(f\"Numpy scalar multiplication takes {time.time() - numpy_experiment_begin} secs\")"
   ]
  },
  {
   "cell_type": "markdown",
   "metadata": {},
   "source": [
    "## Hafıza Kullanımı Karşılaştırması"
   ]
  },
  {
   "cell_type": "code",
   "execution_count": 13,
   "metadata": {},
   "outputs": [
    {
     "name": "stdout",
     "output_type": "stream",
     "text": [
      "Size of each element of list in bytes:  48\n",
      "Size of the whole list in bytes:  48000\n",
      "Size of each element of the Numpy array in bytes:  8\n",
      "Size of the whole Numpy array in bytes:  8000\n"
     ]
    }
   ],
   "source": [
    "# importing system module\n",
    "import sys\n",
    " \n",
    "# declaring a list of 1000 elements\n",
    "S= range(1000)\n",
    " \n",
    "# printing size of each element of the list\n",
    "print(\"Size of each element of list in bytes: \",sys.getsizeof(S))\n",
    " \n",
    "# printing size of the whole list\n",
    "print(\"Size of the whole list in bytes: \",sys.getsizeof(S)*len(S))\n",
    " \n",
    "# declaring a Numpy array of 1000 elements\n",
    "D= np.arange(1000)\n",
    " \n",
    "# printing size of each element of the Numpy array\n",
    "print(\"Size of each element of the Numpy array in bytes: \",D.itemsize)\n",
    " \n",
    "# printing size of the whole Numpy array\n",
    "print(\"Size of the whole Numpy array in bytes: \",D.size*D.itemsize)"
   ]
  },
  {
   "cell_type": "markdown",
   "metadata": {
    "id": "VABetEKj4npt"
   },
   "source": [
    "# 1. Array Oluşturma"
   ]
  },
  {
   "cell_type": "markdown",
   "metadata": {},
   "source": [
    "<img src=\"imgs/numpy_matrix_dim.png\" alt=\"drawing\" width=\"500\"/>"
   ]
  },
  {
   "cell_type": "markdown",
   "metadata": {
    "id": "iu1jzKq-J1Sq"
   },
   "source": [
    "## Listeden Array Oluşturma"
   ]
  },
  {
   "cell_type": "markdown",
   "metadata": {},
   "source": [
    "<img src=\"imgs/creating_matrix.png\" alt=\"drawing\" width=\"500\"/>"
   ]
  },
  {
   "cell_type": "code",
   "execution_count": 14,
   "metadata": {
    "colab": {
     "base_uri": "https://localhost:8080/"
    },
    "id": "L3epBqkYIQ0s",
    "outputId": "ad0ee6c2-fc1b-4937-8caa-5a0b29196d9a"
   },
   "outputs": [
    {
     "name": "stdout",
     "output_type": "stream",
     "text": [
      "Array: [1 2 3]\n",
      "Satır ve sütun sayısı: (3,)\n",
      "Boyutu: 1\n",
      "Eleman sayısı: 3\n"
     ]
    }
   ],
   "source": [
    "a = np.array([1, 2, 3])\n",
    "print(f\"Array: {a}\")\n",
    "print(f\"Satır ve sütun sayısı: {a.shape}\") # Array şekli (ör. row, column)\n",
    "print(f\"Boyutu: {a.ndim}\") # Array boyutu\n",
    "print(f\"Eleman sayısı: {a.size}\") # Eleman sayısı"
   ]
  },
  {
   "cell_type": "code",
   "execution_count": 15,
   "metadata": {
    "colab": {
     "base_uri": "https://localhost:8080/"
    },
    "id": "t88pP6NdJf6o",
    "outputId": "a07c4ed8-ef86-4134-8454-83fcfe745c38"
   },
   "outputs": [
    {
     "name": "stdout",
     "output_type": "stream",
     "text": [
      "Array: [[1 2 3]\n",
      " [4 5 6]]\n",
      "Satır ve sütun sayısı: (2, 3)\n",
      "Boyutu: 2\n",
      "Eleman sayısı: 6\n"
     ]
    }
   ],
   "source": [
    "b = np.array([[1, 2, 3], [4, 5, 6]])\n",
    "print(f\"Array: {b}\")\n",
    "print(f\"Satır ve sütun sayısı: {b.shape}\") # Array şekli (ör. row, column)\n",
    "print(f\"Boyutu: {b.ndim}\") # Array boyutu\n",
    "print(f\"Eleman sayısı: {b.size}\") # Eleman sayısı"
   ]
  },
  {
   "cell_type": "code",
   "execution_count": 16,
   "metadata": {
    "colab": {
     "base_uri": "https://localhost:8080/"
    },
    "id": "_r8H01EkJ6Ot",
    "outputId": "d2ffb2b0-20f3-4f7d-baae-07a19f1046f6"
   },
   "outputs": [
    {
     "name": "stdout",
     "output_type": "stream",
     "text": [
      "Array: [[[1 2 3]\n",
      "  [4 5 6]]]\n",
      "Satır ve sütun sayısı: (1, 2, 3)\n",
      "Boyutu: 3\n",
      "Eleman sayısı: 6\n"
     ]
    }
   ],
   "source": [
    "c = np.array([[[1, 2, 3], [4, 5, 6]]])\n",
    "print(f\"Array: {c}\")\n",
    "print(f\"Satır ve sütun sayısı: {c.shape}\") # Array şekli (ör. row, column)\n",
    "print(f\"Boyutu: {c.ndim}\") # Array boyutu\n",
    "print(f\"Eleman sayısı: {c.size}\") # Eleman sayısı"
   ]
  },
  {
   "cell_type": "markdown",
   "metadata": {
    "id": "FJ5Urf8KKo_X"
   },
   "source": [
    "## Özel Tip Arrayler"
   ]
  },
  {
   "cell_type": "markdown",
   "metadata": {},
   "source": [
    "<img src=\"imgs/special_matrices.png\" alt=\"drawing\" width=\"600\"/>"
   ]
  },
  {
   "cell_type": "code",
   "execution_count": 17,
   "metadata": {
    "colab": {
     "base_uri": "https://localhost:8080/"
    },
    "id": "0RQviWyfK-2O",
    "outputId": "1056fabf-8d1e-4bde-8ba7-f171d1cffa10"
   },
   "outputs": [
    {
     "name": "stdout",
     "output_type": "stream",
     "text": [
      "[[0. 0.]\n",
      " [0. 0.]]\n"
     ]
    }
   ],
   "source": [
    "zeros_matrix = np.zeros((2,2))  # Bütün elemanları 0 olan array\n",
    "print(zeros_matrix)"
   ]
  },
  {
   "cell_type": "code",
   "execution_count": 21,
   "metadata": {},
   "outputs": [
    {
     "name": "stdout",
     "output_type": "stream",
     "text": [
      "[[0. 0.]\n",
      " [0. 0.]]\n",
      "[[[0 0 0]\n",
      "  [0 0 0]]]\n"
     ]
    }
   ],
   "source": [
    "zeros_matrix = np.zeros((2, 2))\n",
    "print(zeros_matrix)\n",
    "\n",
    "zeros_like_matrix = np.zeros_like(c)\n",
    "print(zeros_like_matrix)"
   ]
  },
  {
   "cell_type": "code",
   "execution_count": 22,
   "metadata": {
    "colab": {
     "base_uri": "https://localhost:8080/"
    },
    "id": "MDD_edZLLCDf",
    "outputId": "c216f58c-db46-4da4-fbcc-9efd0ec6c866"
   },
   "outputs": [
    {
     "name": "stdout",
     "output_type": "stream",
     "text": [
      "[[1. 1.]\n",
      " [1. 1.]]\n"
     ]
    }
   ],
   "source": [
    "ones_matrix = np.ones((2,2))   # Bütün elemanları 1 olan array\n",
    "print(ones_matrix)"
   ]
  },
  {
   "cell_type": "code",
   "execution_count": 23,
   "metadata": {
    "colab": {
     "base_uri": "https://localhost:8080/"
    },
    "id": "tRy4gE5vLDyz",
    "outputId": "b8d25be8-1240-48ac-8a81-a928803fa4c4"
   },
   "outputs": [
    {
     "name": "stdout",
     "output_type": "stream",
     "text": [
      "[[7 7]\n",
      " [7 7]]\n"
     ]
    }
   ],
   "source": [
    "full_matrix = np.full((2,2), 7) # Bütün elemanları verilen sayı olan array\n",
    "print(full_matrix)"
   ]
  },
  {
   "cell_type": "code",
   "execution_count": 24,
   "metadata": {
    "colab": {
     "base_uri": "https://localhost:8080/"
    },
    "id": "5-Bdu3c5LJxx",
    "outputId": "f6a4c001-97b0-425b-bfb4-f5519b3d3e59"
   },
   "outputs": [
    {
     "name": "stdout",
     "output_type": "stream",
     "text": [
      "[[1. 0.]\n",
      " [0. 1.]]\n"
     ]
    }
   ],
   "source": [
    "identity_matrix = np.eye(2) # Identity (birim) matris\n",
    "print(identity_matrix)"
   ]
  },
  {
   "cell_type": "code",
   "execution_count": 25,
   "metadata": {
    "colab": {
     "base_uri": "https://localhost:8080/"
    },
    "id": "lGusSTJxLMBF",
    "outputId": "8c751f15-df02-4bc1-d113-91d3fa87cd69"
   },
   "outputs": [
    {
     "name": "stdout",
     "output_type": "stream",
     "text": [
      "[[0.3125266  0.90625769]\n",
      " [0.49990354 0.3899919 ]]\n"
     ]
    }
   ],
   "source": [
    "random_matrix = np.random.random((2,2)) # Elemanları rastgele seçilen array\n",
    "print(random_matrix)"
   ]
  },
  {
   "cell_type": "code",
   "execution_count": 26,
   "metadata": {
    "colab": {
     "base_uri": "https://localhost:8080/"
    },
    "id": "hdAm0B7yonS5",
    "outputId": "bfe89c5b-935c-4f94-835d-cbb760a5b13b"
   },
   "outputs": [
    {
     "name": "stdout",
     "output_type": "stream",
     "text": [
      "[[0.3125266  0.90625769]\n",
      " [0.49990354 0.3899919 ]]\n"
     ]
    }
   ],
   "source": [
    "empty_matrix = np.empty((2,2))\n",
    "print(empty_matrix)"
   ]
  },
  {
   "cell_type": "markdown",
   "metadata": {},
   "source": [
    "<img src=\"imgs/arange_linspace.png\" alt=\"drawing\" width=\"600\"/>"
   ]
  },
  {
   "cell_type": "code",
   "execution_count": 27,
   "metadata": {},
   "outputs": [
    {
     "name": "stdout",
     "output_type": "stream",
     "text": [
      "[3 5]\n"
     ]
    }
   ],
   "source": [
    "range_matrix = np.arange(3,7,2)\n",
    "print(range_matrix)"
   ]
  },
  {
   "cell_type": "code",
   "execution_count": 7,
   "metadata": {},
   "outputs": [
    {
     "data": {
      "text/plain": [
       "array([ 1.,  4.,  7., 10.])"
      ]
     },
     "execution_count": 7,
     "metadata": {},
     "output_type": "execute_result"
    }
   ],
   "source": [
    "evenly_spaced_matrix = np.linspace(1, 10, 4)\n",
    "evenly_spaced_matrix"
   ]
  },
  {
   "cell_type": "markdown",
   "metadata": {
    "id": "ubLn828C46OP"
   },
   "source": [
    "# 2. Veri Tipleri"
   ]
  },
  {
   "cell_type": "code",
   "execution_count": 28,
   "metadata": {
    "colab": {
     "base_uri": "https://localhost:8080/"
    },
    "id": "MLZUXkY3Mcka",
    "outputId": "3565a3f9-02fd-4544-a138-90410e9c9a0b"
   },
   "outputs": [
    {
     "name": "stdout",
     "output_type": "stream",
     "text": [
      "[1 2] [1. 2.] [1. 2.]\n",
      "int64 float64 float64\n",
      "8\n",
      "32\n"
     ]
    }
   ],
   "source": [
    "x = np.array([1, 2])  # Let numpy choose the datatype\n",
    "y = np.array([1.0, 2.0])  # Let numpy choose the datatype\n",
    "z = np.array([1, 2], dtype=np.float64)  # Force a particular datatype\n",
    "\n",
    "print(x, y, z)\n",
    "print(x.dtype, y.dtype, z.dtype)\n",
    "\n",
    "from sys import getsizeof\n",
    "print(x.itemsize)\n",
    "print(getsizeof(x[0]))"
   ]
  },
  {
   "cell_type": "code",
   "execution_count": 29,
   "metadata": {},
   "outputs": [
    {
     "name": "stdout",
     "output_type": "stream",
     "text": [
      "float64\n"
     ]
    }
   ],
   "source": [
    "float_arr = x.astype(np.float64)\n",
    "print(float_arr.dtype)"
   ]
  },
  {
   "cell_type": "markdown",
   "metadata": {
    "id": "re9IgsFs42EY"
   },
   "source": [
    "# 3. Indexing / Slicing"
   ]
  },
  {
   "cell_type": "markdown",
   "metadata": {},
   "source": [
    "<img src=\"imgs/matrix_indexing.png\" alt=\"drawing\" width=\"600\"/>"
   ]
  },
  {
   "cell_type": "code",
   "execution_count": 30,
   "metadata": {},
   "outputs": [
    {
     "name": "stdout",
     "output_type": "stream",
     "text": [
      "[[ 0  1  2  3]\n",
      " [ 4  5  6  7]\n",
      " [ 8  9 10 11]]\n"
     ]
    }
   ],
   "source": [
    "arr = np.arange(12).reshape(3, 4)\n",
    "print(arr)"
   ]
  },
  {
   "cell_type": "markdown",
   "metadata": {},
   "source": [
    "## Basit Indexing"
   ]
  },
  {
   "cell_type": "code",
   "execution_count": 31,
   "metadata": {},
   "outputs": [
    {
     "name": "stdout",
     "output_type": "stream",
     "text": [
      "1\n",
      "1\n"
     ]
    }
   ],
   "source": [
    "# 1.row ve 2.column'daki elemanı print et\n",
    "print(arr[0][1])\n",
    "print(arr[0, 1])"
   ]
  },
  {
   "cell_type": "markdown",
   "metadata": {},
   "source": [
    "## Slicing"
   ]
  },
  {
   "cell_type": "code",
   "execution_count": 42,
   "metadata": {},
   "outputs": [
    {
     "data": {
      "text/plain": [
       "array([1, 5])"
      ]
     },
     "execution_count": 42,
     "metadata": {},
     "output_type": "execute_result"
    }
   ],
   "source": [
    "arr[0:2,1]"
   ]
  },
  {
   "cell_type": "code",
   "execution_count": 32,
   "metadata": {},
   "outputs": [
    {
     "name": "stdout",
     "output_type": "stream",
     "text": [
      "[[ 8  9 10 11]\n",
      " [ 4  5  6  7]\n",
      " [ 0  1  2  3]]\n",
      "[[ 0  2]\n",
      " [ 4  6]\n",
      " [ 8 10]]\n"
     ]
    }
   ],
   "source": [
    "# reverse rows\n",
    "print(arr[::-1])\n",
    "\n",
    "# stride\n",
    "print(arr[:, ::2])"
   ]
  },
  {
   "cell_type": "markdown",
   "metadata": {},
   "source": [
    "## Integer Indexing"
   ]
  },
  {
   "cell_type": "code",
   "execution_count": 33,
   "metadata": {},
   "outputs": [
    {
     "data": {
      "text/plain": [
       "array([6, 1])"
      ]
     },
     "execution_count": 33,
     "metadata": {},
     "output_type": "execute_result"
    }
   ],
   "source": [
    "row_ids = [1, 0]\n",
    "column_ids = [2, 1]\n",
    "arr[row_ids, column_ids]"
   ]
  },
  {
   "cell_type": "code",
   "execution_count": 34,
   "metadata": {},
   "outputs": [
    {
     "data": {
      "text/plain": [
       "array([[1, 2],\n",
       "       [5, 6]])"
      ]
     },
     "execution_count": 34,
     "metadata": {},
     "output_type": "execute_result"
    }
   ],
   "source": [
    "arr[[0, 1]][:, [1, 2]]"
   ]
  },
  {
   "cell_type": "code",
   "execution_count": 35,
   "metadata": {},
   "outputs": [
    {
     "data": {
      "text/plain": [
       "array([[[ 0,  1,  2],\n",
       "        [ 3,  4,  5]],\n",
       "\n",
       "       [[ 6,  7,  8],\n",
       "        [ 9, 10, 11]]])"
      ]
     },
     "execution_count": 35,
     "metadata": {},
     "output_type": "execute_result"
    }
   ],
   "source": [
    "arr3d = arr.reshape(2, 2, 3)\n",
    "arr3d"
   ]
  },
  {
   "cell_type": "code",
   "execution_count": 36,
   "metadata": {},
   "outputs": [
    {
     "data": {
      "text/plain": [
       "array([[[ 0,  1,  2],\n",
       "        [-1, -2, -3]],\n",
       "\n",
       "       [[ 6,  7,  8],\n",
       "        [-1, -2, -3]]])"
      ]
     },
     "execution_count": 36,
     "metadata": {},
     "output_type": "execute_result"
    }
   ],
   "source": [
    "arr3d[:, 1, :] = [-1, -2, -3]\n",
    "arr3d"
   ]
  },
  {
   "cell_type": "markdown",
   "metadata": {},
   "source": [
    "## Boolean Indexing"
   ]
  },
  {
   "cell_type": "code",
   "execution_count": 37,
   "metadata": {},
   "outputs": [
    {
     "name": "stdout",
     "output_type": "stream",
     "text": [
      "[[ True False  True False]\n",
      " [ True False  True False]\n",
      " [ True False  True False]]\n",
      "[ 0  2 -2  6  8 -2]\n"
     ]
    }
   ],
   "source": [
    "print(arr % 2 == 0)\n",
    "print(arr[arr % 2 == 0]) # Flat"
   ]
  },
  {
   "cell_type": "code",
   "execution_count": 38,
   "metadata": {},
   "outputs": [
    {
     "name": "stdout",
     "output_type": "stream",
     "text": [
      "[[False False False False]\n",
      " [False False False False]\n",
      " [False False False False]]\n",
      "[ 2 -1]\n"
     ]
    }
   ],
   "source": [
    "mask = np.zeros_like(arr, dtype=bool)\n",
    "print(mask)\n",
    "mask[0, 2] = True\n",
    "mask[2, 1] = True\n",
    "print(arr[mask])"
   ]
  },
  {
   "cell_type": "code",
   "execution_count": null,
   "metadata": {},
   "outputs": [],
   "source": [
    "np.where\n",
    "np.argwhere(a)"
   ]
  },
  {
   "cell_type": "markdown",
   "metadata": {},
   "source": [
    "# 4. Array Kopyalama"
   ]
  },
  {
   "cell_type": "markdown",
   "metadata": {},
   "source": [
    "## Shallow Copy"
   ]
  },
  {
   "cell_type": "code",
   "execution_count": 47,
   "metadata": {},
   "outputs": [
    {
     "name": "stdout",
     "output_type": "stream",
     "text": [
      "[0 1 2]\n",
      "[[0]\n",
      " [1]\n",
      " [2]]\n",
      "[-1  1  2]\n",
      "[[-1]\n",
      " [ 1]\n",
      " [ 2]]\n"
     ]
    }
   ],
   "source": [
    "a = np.arange(3)\n",
    "b = a.view()\n",
    "b = b.reshape(3, -1)\n",
    "print(a)\n",
    "print(b)\n",
    "\n",
    "b[0] = -1\n",
    "print(a)\n",
    "print(b)"
   ]
  },
  {
   "cell_type": "markdown",
   "metadata": {},
   "source": [
    "## Deep Copy"
   ]
  },
  {
   "cell_type": "code",
   "execution_count": 43,
   "metadata": {},
   "outputs": [
    {
     "name": "stdout",
     "output_type": "stream",
     "text": [
      "[0 1 2]\n",
      "[-1  1  2]\n"
     ]
    }
   ],
   "source": [
    "a = np.arange(3)\n",
    "b = a.copy()\n",
    "b[0] = -1\n",
    "print(a)\n",
    "print(b)"
   ]
  },
  {
   "cell_type": "markdown",
   "metadata": {
    "id": "7YC5mFAG5IlA"
   },
   "source": [
    "# 5. Matematiksel İşlemler"
   ]
  },
  {
   "cell_type": "markdown",
   "metadata": {},
   "source": [
    "## Sorting"
   ]
  },
  {
   "cell_type": "code",
   "execution_count": null,
   "metadata": {},
   "outputs": [],
   "source": [
    "np.sort()\n",
    "np.argpartition()"
   ]
  },
  {
   "cell_type": "markdown",
   "metadata": {},
   "source": [
    "## Min/Max"
   ]
  },
  {
   "cell_type": "code",
   "execution_count": null,
   "metadata": {},
   "outputs": [],
   "source": [
    "np.min()\n",
    "np.argmin()"
   ]
  },
  {
   "cell_type": "markdown",
   "metadata": {},
   "source": [
    "# 6. Array Manipülasyonu"
   ]
  },
  {
   "cell_type": "markdown",
   "metadata": {},
   "source": [
    "<img src=\"imgs/matrix_reshape.png\" alt=\"drawing\" width=\"500\"/>"
   ]
  },
  {
   "cell_type": "code",
   "execution_count": 10,
   "metadata": {},
   "outputs": [
    {
     "ename": "SyntaxError",
     "evalue": "invalid syntax (2494815327.py, line 1)",
     "output_type": "error",
     "traceback": [
      "\u001b[0;36m  File \u001b[0;32m\"/tmp/ipykernel_259932/2494815327.py\"\u001b[0;36m, line \u001b[0;32m1\u001b[0m\n\u001b[0;31m    https://numpy.org/doc/stable/reference/routines.array-manipulation.html\u001b[0m\n\u001b[0m          ^\u001b[0m\n\u001b[0;31mSyntaxError\u001b[0m\u001b[0;31m:\u001b[0m invalid syntax\n"
     ]
    }
   ],
   "source": [
    "https://numpy.org/doc/stable/reference/routines.array-manipulation.html\n",
    "\n",
    "reshape\n",
    "ravel\n",
    "swapaxis\n",
    "transpose\n",
    "expand dims\n",
    "squeeze"
   ]
  },
  {
   "cell_type": "markdown",
   "metadata": {},
   "source": [
    "# 7. Array Birleştirme / Ayırma"
   ]
  },
  {
   "cell_type": "markdown",
   "metadata": {},
   "source": [
    "<img src=\"imgs/stacking.png\" alt=\"drawing\" width=\"500\"/>"
   ]
  },
  {
   "cell_type": "code",
   "execution_count": null,
   "metadata": {},
   "outputs": [],
   "source": [
    "np.concatenate\n",
    "np.hstack\n",
    "np.vstack"
   ]
  },
  {
   "cell_type": "markdown",
   "metadata": {},
   "source": [
    "<img src=\"imgs/splitting.png\" alt=\"drawing\" width=\"600\"/>"
   ]
  },
  {
   "cell_type": "code",
   "execution_count": null,
   "metadata": {},
   "outputs": [],
   "source": [
    "np.split\n",
    "np.hsplit\n",
    "np.vsplit"
   ]
  },
  {
   "cell_type": "markdown",
   "metadata": {
    "id": "5JOMlYIm5Wo4"
   },
   "source": [
    "# 8. Broadcasting"
   ]
  },
  {
   "cell_type": "markdown",
   "metadata": {},
   "source": [
    "# 9. Save / Load"
   ]
  },
  {
   "cell_type": "markdown",
   "metadata": {},
   "source": [
    "# Ek Kaynaklar\n",
    "\n",
    "## Cheat sheet\n",
    "- https://www.geeksforgeeks.org/numpy-cheat-sheet/\n",
    "- https://www.datacamp.com/cheat-sheet/numpy-cheat-sheet-data-analysis-in-python\n",
    "\n",
    "## Okumalar\n",
    "- https://numpy.org/learn/\n",
    "- https://jakevdp.github.io/PythonDataScienceHandbook\n",
    "- http://jalammar.github.io/visual-numpy/\n",
    "- https://medium.com/better-programming/numpy-illustrated-the-visual-guide-to-numpy-3b1d4976de1d?source=friends_link&sk=57b908a77aa44075a49293fa1631dd9b\n",
    "\n",
    "## Egzersizler\n",
    "- https://github.com/rougier/numpy-100\n",
    "- https://www.kaggle.com/code/themlphdstudent/learn-numpy-numpy-50-exercises-and-solution\n",
    "\n",
    "## Video Dersler\n",
    "- https://www.youtube.com/watch?v=8Y0qQEh7dJg\n",
    "- https://www.youtube.com/watch?v=QUT1VHiLmmI&t=2068s"
   ]
  },
  {
   "cell_type": "code",
   "execution_count": null,
   "metadata": {},
   "outputs": [],
   "source": []
  }
 ],
 "metadata": {
  "colab": {
   "provenance": []
  },
  "kernelspec": {
   "display_name": "Python 3 (ipykernel)",
   "language": "python",
   "name": "python3"
  },
  "language_info": {
   "codemirror_mode": {
    "name": "ipython",
    "version": 3
   },
   "file_extension": ".py",
   "mimetype": "text/x-python",
   "name": "python",
   "nbconvert_exporter": "python",
   "pygments_lexer": "ipython3",
   "version": "3.10.12"
  }
 },
 "nbformat": 4,
 "nbformat_minor": 1
}
